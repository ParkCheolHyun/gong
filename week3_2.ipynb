{
  "nbformat": 4,
  "nbformat_minor": 0,
  "metadata": {
    "colab": {
      "provenance": [],
      "authorship_tag": "ABX9TyODLacjdru/xWGSA+LTrv5d",
      "include_colab_link": true
    },
    "kernelspec": {
      "name": "python3",
      "display_name": "Python 3"
    },
    "language_info": {
      "name": "python"
    }
  },
  "cells": [
    {
      "cell_type": "markdown",
      "metadata": {
        "id": "view-in-github",
        "colab_type": "text"
      },
      "source": [
        "<a href=\"https://colab.research.google.com/github/ParkCheolHyun/gong/blob/main/week3_2.ipynb\" target=\"_parent\"><img src=\"https://colab.research.google.com/assets/colab-badge.svg\" alt=\"Open In Colab\"/></a>"
      ]
    },
    {
      "cell_type": "code",
      "execution_count": 5,
      "metadata": {
        "colab": {
          "base_uri": "https://localhost:8080/"
        },
        "id": "4Vk23_Bo6yGv",
        "outputId": "e6ccfe10-d2fb-4438-89de-e9970c5e2e54"
      },
      "outputs": [
        {
          "output_type": "execute_result",
          "data": {
            "text/plain": [
              "1"
            ]
          },
          "metadata": {},
          "execution_count": 5
        }
      ],
      "source": [
        "t1=(1,2,\"a\",\"b\")\n",
        "t1[0]"
      ]
    },
    {
      "cell_type": "code",
      "source": [
        "t2=(3,4) t1=(3,5)\n",
        "t2*3\n",
        "t2+t1"
      ],
      "metadata": {
        "colab": {
          "base_uri": "https://localhost:8080/",
          "height": 138
        },
        "id": "odkQl9eh8DTa",
        "outputId": "e9ed4b2d-0a05-46c8-eab7-1f7ba27da151"
      },
      "execution_count": 8,
      "outputs": [
        {
          "output_type": "error",
          "ename": "SyntaxError",
          "evalue": "ignored",
          "traceback": [
            "\u001b[0;36m  File \u001b[0;32m\"<ipython-input-8-3c663701b1f1>\"\u001b[0;36m, line \u001b[0;32m1\u001b[0m\n\u001b[0;31m    t2=(3,4) t1=(3,5)\u001b[0m\n\u001b[0m             ^\u001b[0m\n\u001b[0;31mSyntaxError\u001b[0m\u001b[0;31m:\u001b[0m invalid syntax\n"
          ]
        }
      ]
    },
    {
      "cell_type": "code",
      "source": [
        "tup1=(1,) #,를 붙이지 않으면 숫자로 인식해서 오류가 난다.\n",
        "tup2=(4,5,6)\n",
        "tup3=tup1+tup2\n",
        "print(tup3)"
      ],
      "metadata": {
        "colab": {
          "base_uri": "https://localhost:8080/"
        },
        "id": "4ayIjT3D8usP",
        "outputId": "628b3a06-0e7f-4685-fa28-41cfce29c0b4"
      },
      "execution_count": 19,
      "outputs": [
        {
          "output_type": "stream",
          "name": "stdout",
          "text": [
            "(1, 4, 5, 6)\n"
          ]
        }
      ]
    },
    {
      "cell_type": "code",
      "source": [
        "tup = (1,2,3)\n",
        "lst = list(tup) # 이름을 붙일때 숫자로 시작하면 안된다. 문자로 시작해야함\n",
        "print(lst)"
      ],
      "metadata": {
        "colab": {
          "base_uri": "https://localhost:8080/"
        },
        "id": "zq-Gz_ub-fcy",
        "outputId": "ae9a9cc2-9eec-486c-d08f-3938971003c3"
      },
      "execution_count": 34,
      "outputs": [
        {
          "output_type": "stream",
          "name": "stdout",
          "text": [
            "[1, 2, 3]\n"
          ]
        }
      ]
    },
    {
      "cell_type": "code",
      "source": [
        "t1=(1,2,\"a\",\"b\")\n",
        "t1[1:]"
      ],
      "metadata": {
        "colab": {
          "base_uri": "https://localhost:8080/"
        },
        "id": "nYFmaIv3_Vu1",
        "outputId": "134e7a54-0d89-4109-b3f3-154e6cbd37eb"
      },
      "execution_count": 22,
      "outputs": [
        {
          "output_type": "execute_result",
          "data": {
            "text/plain": [
              "(2, 'a', 'b')"
            ]
          },
          "metadata": {},
          "execution_count": 22
        }
      ]
    },
    {
      "cell_type": "code",
      "source": [
        "t1=(\"가나다\")\n",
        "print(t1)"
      ],
      "metadata": {
        "colab": {
          "base_uri": "https://localhost:8080/"
        },
        "id": "H0_17Mbl_sF7",
        "outputId": "905643ac-d7f3-4992-a481-608c1e76d2df"
      },
      "execution_count": 25,
      "outputs": [
        {
          "output_type": "stream",
          "name": "stdout",
          "text": [
            "가나다\n"
          ]
        }
      ]
    },
    {
      "cell_type": "code",
      "source": [
        "t1=(1,2,\"a\",\"b\")\n",
        "len(t1)"
      ],
      "metadata": {
        "colab": {
          "base_uri": "https://localhost:8080/"
        },
        "id": "c0bMEr1X_8fJ",
        "outputId": "7df18619-a5d6-4432-f249-6a4e25dcb3b2"
      },
      "execution_count": 28,
      "outputs": [
        {
          "output_type": "execute_result",
          "data": {
            "text/plain": [
              "4"
            ]
          },
          "metadata": {},
          "execution_count": 28
        }
      ]
    },
    {
      "cell_type": "code",
      "source": [
        "tup=(1,2,3,4,5)\n",
        "print(tup[1])\n",
        "print(tup[-1])"
      ],
      "metadata": {
        "colab": {
          "base_uri": "https://localhost:8080/"
        },
        "id": "qbZueniVAGJ2",
        "outputId": "d3966302-dd37-4471-9810-718d3dc9775e"
      },
      "execution_count": 36,
      "outputs": [
        {
          "output_type": "stream",
          "name": "stdout",
          "text": [
            "2\n",
            "5\n"
          ]
        }
      ]
    },
    {
      "cell_type": "code",
      "source": [
        "tup=(1,2,3)\n",
        "a,b,c=tup\n",
        "print(a,b,c)"
      ],
      "metadata": {
        "colab": {
          "base_uri": "https://localhost:8080/"
        },
        "id": "6rVJiFiBAeKl",
        "outputId": "d09be6e5-53a5-4c1f-a462-f2d70509136e"
      },
      "execution_count": 33,
      "outputs": [
        {
          "output_type": "stream",
          "name": "stdout",
          "text": [
            "1 2 3\n"
          ]
        }
      ]
    },
    {
      "cell_type": "code",
      "source": [
        "a={1:\"a\"}\n",
        "a[2]=\"b\"\n",
        "a[0]=\"c\"\n",
        "print(a)"
      ],
      "metadata": {
        "colab": {
          "base_uri": "https://localhost:8080/"
        },
        "id": "kKvC1olsAnbP",
        "outputId": "7d9e49b0-a0fe-4d61-dcb7-d4422fe10236"
      },
      "execution_count": 38,
      "outputs": [
        {
          "output_type": "stream",
          "name": "stdout",
          "text": [
            "{1: 'a', 2: 'b', 0: 'c'}\n"
          ]
        }
      ]
    },
    {
      "cell_type": "code",
      "source": [
        "a={\"name\":\"byungshin\",\"phone\":\"01062492766\"}\n",
        "a.values()\n",
        "for k in a.values():    # for-> 반복문, 그대로 쳐야함\n",
        "  print(k)"
      ],
      "metadata": {
        "colab": {
          "base_uri": "https://localhost:8080/"
        },
        "id": "besllK3nDbsA",
        "outputId": "0e9facda-ce76-475a-ac12-363c96d45e71"
      },
      "execution_count": 65,
      "outputs": [
        {
          "output_type": "stream",
          "name": "stdout",
          "text": [
            "byungshin\n",
            "01062492766\n"
          ]
        }
      ]
    },
    {
      "cell_type": "code",
      "source": [
        "list(a.keys())\n"
      ],
      "metadata": {
        "colab": {
          "base_uri": "https://localhost:8080/"
        },
        "id": "PsLBU7vRE8li",
        "outputId": "39ab8645-9cac-4ba5-ad61-ca09bd52e6ca"
      },
      "execution_count": 50,
      "outputs": [
        {
          "output_type": "execute_result",
          "data": {
            "text/plain": [
              "['name', 'phone']"
            ]
          },
          "metadata": {},
          "execution_count": 50
        }
      ]
    },
    {
      "cell_type": "code",
      "source": [
        "a.values()\n",
        "a.clear()"
      ],
      "metadata": {
        "id": "goKWBAu9FEBG"
      },
      "execution_count": 53,
      "outputs": []
    },
    {
      "cell_type": "code",
      "source": [
        "a={\"name\":\"pey\",\"phone\":\"01062492766\"}\n",
        "\"name\" in a\n",
        "\"email\" in a"
      ],
      "metadata": {
        "colab": {
          "base_uri": "https://localhost:8080/"
        },
        "id": "XIrIFKe6FY04",
        "outputId": "cb49b769-1809-47a9-dc06-c2438c6be569"
      },
      "execution_count": 59,
      "outputs": [
        {
          "output_type": "execute_result",
          "data": {
            "text/plain": [
              "False"
            ]
          },
          "metadata": {},
          "execution_count": 59
        }
      ]
    },
    {
      "cell_type": "code",
      "source": [
        "a={\"name\":\"pey\",\"phone\":\"01062492766\"}\n",
        "a.get(\"name\")\n",
        "print(a.get(\"nokey\"))\n",
        "a.get(\"foo\",\"park\")"
      ],
      "metadata": {
        "colab": {
          "base_uri": "https://localhost:8080/",
          "height": 54
        },
        "id": "ByjCYpD2Fy2h",
        "outputId": "f81ef975-34ca-42af-803b-8d400901b017"
      },
      "execution_count": 63,
      "outputs": [
        {
          "output_type": "stream",
          "name": "stdout",
          "text": [
            "None\n"
          ]
        },
        {
          "output_type": "execute_result",
          "data": {
            "text/plain": [
              "'park'"
            ],
            "application/vnd.google.colaboratory.intrinsic+json": {
              "type": "string"
            }
          },
          "metadata": {},
          "execution_count": 63
        }
      ]
    },
    {
      "cell_type": "code",
      "source": [
        "my_dict={\"name\":\"john\",\"age\":\"18\",\"city\":\"new York\"}\n",
        "print(my_dict)\n",
        "print(my_dict[\"name\"]) # [] -> list"
      ],
      "metadata": {
        "colab": {
          "base_uri": "https://localhost:8080/"
        },
        "id": "foayw7i3GRLS",
        "outputId": "4a06cb80-5ef6-4231-8acc-e0d1cbb8421f"
      },
      "execution_count": 74,
      "outputs": [
        {
          "output_type": "stream",
          "name": "stdout",
          "text": [
            "{'name': 'john', 'age': '18', 'city': 'new York'}\n",
            "john\n"
          ]
        }
      ]
    },
    {
      "cell_type": "code",
      "source": [],
      "metadata": {
        "id": "FU3tMwS3IdnH"
      },
      "execution_count": null,
      "outputs": []
    }
  ]
}