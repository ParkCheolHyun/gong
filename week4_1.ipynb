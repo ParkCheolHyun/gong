{
  "nbformat": 4,
  "nbformat_minor": 0,
  "metadata": {
    "colab": {
      "provenance": [],
      "authorship_tag": "ABX9TyPwPCR+a9jl9d1CcsVo+ImJ",
      "include_colab_link": true
    },
    "kernelspec": {
      "name": "python3",
      "display_name": "Python 3"
    },
    "language_info": {
      "name": "python"
    }
  },
  "cells": [
    {
      "cell_type": "markdown",
      "metadata": {
        "id": "view-in-github",
        "colab_type": "text"
      },
      "source": [
        "<a href=\"https://colab.research.google.com/github/ParkCheolHyun/gong/blob/main/week4_1.ipynb\" target=\"_parent\"><img src=\"https://colab.research.google.com/assets/colab-badge.svg\" alt=\"Open In Colab\"/></a>"
      ]
    },
    {
      "cell_type": "code",
      "execution_count": 1,
      "metadata": {
        "colab": {
          "base_uri": "https://localhost:8080/"
        },
        "id": "h_Nz473Tqquf",
        "outputId": "474e512e-4271-4e64-f24c-132e8d7b9bc6"
      },
      "outputs": [
        {
          "output_type": "stream",
          "name": "stdout",
          "text": [
            "ㄴㄴ\n"
          ]
        }
      ],
      "source": [
        "a = 3\n",
        "b = 2\n",
        "c = True\n",
        "if a<b:\n",
        "  print('ㅇㅇ')\n",
        "elif c:\n",
        "  print('ㄴㄴ')\n",
        "else:\n",
        "  print('')"
      ]
    },
    {
      "cell_type": "code",
      "source": [
        "score = int(input(\"Enter your test score: \"))\n",
        "if score >= 90:\n",
        "  print('A')\n",
        "elif score >= 80:\n",
        "  print('B')\n",
        "elif score >= 70:\n",
        "  print('C')\n",
        "elif score >= 60:\n",
        "  print('D')\n",
        "else:\n",
        "  print('F')"
      ],
      "metadata": {
        "colab": {
          "base_uri": "https://localhost:8080/"
        },
        "id": "-ETYA9vPriIS",
        "outputId": "69442e95-52df-4dab-a2b4-2d02564126d7"
      },
      "execution_count": 15,
      "outputs": [
        {
          "output_type": "stream",
          "name": "stdout",
          "text": [
            "Enter your test score: 20\n",
            "F\n"
          ]
        }
      ]
    },
    {
      "cell_type": "code",
      "source": [
        "age = int(input(\"Enter your age: \"))\n",
        "if age < 18:\n",
        "  print('You are not eligible to vote')\n",
        "elif age >= 18 and age < 65:\n",
        "  print(\"You are eligible to vote\")\n",
        "else:\n",
        "  print(\"dd\")"
      ],
      "metadata": {
        "colab": {
          "base_uri": "https://localhost:8080/"
        },
        "id": "b5WypfRIs-ik",
        "outputId": "e09a300d-b1fa-44d6-98ae-070791c779b2"
      },
      "execution_count": 14,
      "outputs": [
        {
          "output_type": "stream",
          "name": "stdout",
          "text": [
            "Enter your age: 18\n",
            "You are eligible to vote\n"
          ]
        }
      ]
    },
    {
      "cell_type": "code",
      "source": [
        "for i in range(2,10):\n",
        "  for j in range(1,10):\n",
        "    print(i*j,end=\"\")\n",
        "  print('')\n"
      ],
      "metadata": {
        "colab": {
          "base_uri": "https://localhost:8080/"
        },
        "id": "VUnkjNoIt_MV",
        "outputId": "7a1bc9ef-ef14-43f2-b3c1-35291405bb4e"
      },
      "execution_count": 31,
      "outputs": [
        {
          "output_type": "stream",
          "name": "stdout",
          "text": [
            "24681012141618\n",
            "369121518212427\n",
            "4812162024283236\n",
            "51015202530354045\n",
            "61218243036424854\n",
            "71421283542495663\n",
            "81624324048566472\n",
            "91827364554637281\n"
          ]
        }
      ]
    },
    {
      "cell_type": "code",
      "source": [
        "a = [1,2,3,4]\n",
        "result = [num*3 for num in a]\n",
        "print(result)"
      ],
      "metadata": {
        "colab": {
          "base_uri": "https://localhost:8080/"
        },
        "id": "VKcP1-IQxtm7",
        "outputId": "9d762a30-7fd5-4d66-e675-f9c4af4d12b7"
      },
      "execution_count": 34,
      "outputs": [
        {
          "output_type": "stream",
          "name": "stdout",
          "text": [
            "[3, 6, 9, 12]\n"
          ]
        }
      ]
    },
    {
      "cell_type": "code",
      "source": [
        "a = [1,2,3,4]\n",
        "result = [num*3 for num in a if num % 2 == 0]\n",
        "print(result)"
      ],
      "metadata": {
        "colab": {
          "base_uri": "https://localhost:8080/"
        },
        "id": "Ugmrj7Eq0MD6",
        "outputId": "cbb9e723-55c0-47b9-9dbc-98b0409f10c1"
      },
      "execution_count": 36,
      "outputs": [
        {
          "output_type": "stream",
          "name": "stdout",
          "text": [
            "[6, 12]\n"
          ]
        }
      ]
    },
    {
      "cell_type": "code",
      "source": [
        "names = ['alice', 'Bob', 'Charlie']\n",
        "name_tuples = [(name, len(name)) for name in names]\n",
        "print(name_tuples)"
      ],
      "metadata": {
        "colab": {
          "base_uri": "https://localhost:8080/"
        },
        "id": "jUn0dC9O1Rt6",
        "outputId": "4474ceb6-1e3f-4fb2-c94d-beae2fb240b7"
      },
      "execution_count": 39,
      "outputs": [
        {
          "output_type": "stream",
          "name": "stdout",
          "text": [
            "[('alice', 5), ('Bob', 3), ('Charlie', 7)]\n"
          ]
        }
      ]
    },
    {
      "cell_type": "code",
      "source": [
        "names = ['alice', 'Bob', 'Charlie']\n",
        "for name in names:\n",
        "  name_tuples = [name,len(name)]\n",
        "  print(name_tuples)"
      ],
      "metadata": {
        "colab": {
          "base_uri": "https://localhost:8080/"
        },
        "id": "fTD7Zn9h2Bv1",
        "outputId": "321e99b9-792d-4560-c630-c264d288ec28"
      },
      "execution_count": 45,
      "outputs": [
        {
          "output_type": "stream",
          "name": "stdout",
          "text": [
            "['alice', 5]\n",
            "['Bob', 3]\n",
            "['Charlie', 7]\n"
          ]
        }
      ]
    },
    {
      "cell_type": "code",
      "source": [
        "treehit = 0\n",
        "while treehit < 10:\n",
        "  treehit = treehit +1\n",
        "  print('나무를 %d번 찍었습니다.' % treehit)\n",
        "  if treehit == 10:\n",
        "     print('나무가 넘어갔습니다.')\n",
        "              "
      ],
      "metadata": {
        "colab": {
          "base_uri": "https://localhost:8080/"
        },
        "id": "KSDC-6YX3jdC",
        "outputId": "a8a70906-6c9e-49ee-ca29-bdd3d1055b60"
      },
      "execution_count": 56,
      "outputs": [
        {
          "output_type": "stream",
          "name": "stdout",
          "text": [
            "나무를 1번 찍었습니다.\n",
            "나무를 2번 찍었습니다.\n",
            "나무를 3번 찍었습니다.\n",
            "나무를 4번 찍었습니다.\n",
            "나무를 5번 찍었습니다.\n",
            "나무를 6번 찍었습니다.\n",
            "나무를 7번 찍었습니다.\n",
            "나무를 8번 찍었습니다.\n",
            "나무를 9번 찍었습니다.\n",
            "나무를 10번 찍었습니다.\n",
            "나무가 넘어갔습니다.\n"
          ]
        }
      ]
    },
    {
      "cell_type": "code",
      "source": [
        "for i in range(10):\n",
        "  if i == 5:\n",
        "    break\n",
        "  print(i)"
      ],
      "metadata": {
        "colab": {
          "base_uri": "https://localhost:8080/"
        },
        "id": "VZeo4q5A6Q4Z",
        "outputId": "bd1b12f1-79fb-4542-e22c-9513ab4dfcbd"
      },
      "execution_count": 63,
      "outputs": [
        {
          "output_type": "stream",
          "name": "stdout",
          "text": [
            "0\n",
            "1\n",
            "2\n",
            "3\n",
            "4\n"
          ]
        }
      ]
    }
  ]
}